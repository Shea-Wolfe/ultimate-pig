{
 "cells": [
  {
   "cell_type": "code",
   "execution_count": 1,
   "metadata": {
    "collapsed": true
   },
   "outputs": [],
   "source": [
    "import matplotlib.pyplot as plt\n",
    "import statistics\n",
    "import math\n",
    "import random"
   ]
  },
  {
   "cell_type": "code",
   "execution_count": 2,
   "metadata": {
    "collapsed": true
   },
   "outputs": [],
   "source": [
    "%matplotlib inline"
   ]
  },
  {
   "cell_type": "code",
   "execution_count": 173,
   "metadata": {
    "collapsed": false
   },
   "outputs": [],
   "source": [
    "class Game_state():\n",
    "    \n",
    "    def __init__(self, player):\n",
    "        self.player = player\n",
    "        self.turns = 1\n",
    "        self.score = 0\n",
    "        self.data = {}\n",
    "    \n",
    "    def game_loop(self):\n",
    "        while self.turns <= 7:\n",
    "            self.score += self.player.push()\n",
    "            self.data[self.turns] = self.score\n",
    "            self.turns += 1\n",
    "        return self.data[7]\n",
    "    "
   ]
  },
  {
   "cell_type": "code",
   "execution_count": 172,
   "metadata": {
    "collapsed": false
   },
   "outputs": [],
   "source": [
    "class Player():\n",
    "    \n",
    "    def __init__(self):\n",
    "        pass\n",
    "    \n",
    "    def roll(self):\n",
    "        roll = random.randint(1,6)\n",
    "        if roll == 1:\n",
    "            return 0\n",
    "        else:\n",
    "            return roll\n",
    "    \n",
    "    def push(self):\n",
    "        roll_list = []\n",
    "        while len(roll_list) < 1:\n",
    "            roll_list.append(self.roll())\n",
    "        return sum(roll_list)\n",
    "    \n",
    "    \n",
    "\n",
    "            \n",
    "        "
   ]
  },
  {
   "cell_type": "code",
   "execution_count": 169,
   "metadata": {
    "collapsed": true
   },
   "outputs": [],
   "source": [
    "class Push2player(Player):\n",
    "    \n",
    "    def __init__(self):\n",
    "        super().__init__()\n",
    "    \n",
    "    def push(self):\n",
    "        roll_list = []\n",
    "        for _ in range(2):\n",
    "            roll_list.append(self.roll())\n",
    "        if 0 in roll_list:\n",
    "            return 0\n",
    "        else:\n",
    "            return sum(roll_list)\n",
    "            \n",
    "class Push3player(Player):\n",
    "    \n",
    "    def __init__(self):\n",
    "        super().__init__()\n",
    "    \n",
    "    def push(self):\n",
    "        roll_list = []\n",
    "        for _ in range(3):\n",
    "            roll_list.append(self.roll())\n",
    "        if 0 in roll_list:\n",
    "            return 0\n",
    "        else:\n",
    "            return sum(roll_list)"
   ]
  },
  {
   "cell_type": "code",
   "execution_count": 185,
   "metadata": {
    "collapsed": false
   },
   "outputs": [],
   "source": [
    "def get_data(player,loops=100): # takes a instance of player\n",
    "    simulations = []\n",
    "    [simulations.append(Game_state(player).game_loop()) for _ in range(loops)]\n",
    "    return simulations\n",
    "        "
   ]
  },
  {
   "cell_type": "code",
   "execution_count": 186,
   "metadata": {
    "collapsed": false
   },
   "outputs": [],
   "source": [
    "data1 = get_data(Player(), 1000)\n",
    "data2 =  get_data(Push2player(), 1000)\n",
    "data3 = get_data(Push3player(), 1000)"
   ]
  },
  {
   "cell_type": "code",
   "execution_count": 177,
   "metadata": {
    "collapsed": false
   },
   "outputs": [
    {
     "name": "stdout",
     "output_type": "stream",
     "text": [
      "[27, 22, 15, 27, 20, 24, 18, 24, 23, 28, 14, 22, 29, 23, 21, 25, 9, 32, 30, 25]\n",
      "[53, 27, 20, 26, 30, 12, 54, 26, 57, 35, 42, 33, 41, 42, 24, 30, 50, 42, 32, 40]\n"
     ]
    }
   ],
   "source": [
    "print(data1)\n",
    "print(data2)"
   ]
  },
  {
   "cell_type": "code",
   "execution_count": 188,
   "metadata": {
    "collapsed": false
   },
   "outputs": [
    {
     "data": {
      "image/png": "[encoded data removed]",
      "text/plain": [
       "<matplotlib.figure.Figure at 0x10aa32630>"
      ]
     },
     "metadata": {},
     "output_type": "display_data"
    },
    {
     "data": {
      "image/png": "[encoded data removed]",
      "text/plain": [
       "<matplotlib.figure.Figure at 0x10ab0d748>"
      ]
     },
     "metadata": {},
     "output_type": "display_data"
    },
    {
     "data": {
      "image/png": "[encoded data removed]",
      "text/plain": [
       "<matplotlib.figure.Figure at 0x10aa29278>"
      ]
     },
     "metadata": {},
     "output_type": "display_data"
    }
   ],
   "source": [
    "plt.hist(data1)\n",
    "plt.show()\n",
    "plt.hist(data2)\n",
    "plt.show()\n",
    "plt.hist(data3)\n",
    "plt.show()"
   ]
  },
  {
   "cell_type": "code",
   "execution_count": 182,
   "metadata": {
    "collapsed": false
   },
   "outputs": [
    {
     "data": {
      "image/png": "[encoded data removed]",
      "text/plain": [
       "<matplotlib.figure.Figure at 0x10a696438>"
      ]
     },
     "metadata": {},
     "output_type": "display_data"
    }
   ],
   "source": []
  },
  {
   "cell_type": "code",
   "execution_count": null,
   "metadata": {
    "collapsed": false
   },
   "outputs": [],
   "source": []
  },
  {
   "cell_type": "code",
   "execution_count": null,
   "metadata": {
    "collapsed": false
   },
   "outputs": [],
   "source": []
  },
  {
   "cell_type": "code",
   "execution_count": 107,
   "metadata": {
    "collapsed": false
   },
   "outputs": [
    {
     "data": {
      "image/png": "[encoded data removed]",
      "text/plain": [
       "<matplotlib.figure.Figure at 0x10a4ffd30>"
      ]
     },
     "metadata": {},
     "output_type": "display_data"
    }
   ],
   "source": [
    "plt.scatter(range(3),[statistics.mean(data), statistics.mean(data2), statistics.mean(data3)])\n",
    "plt.show()"
   ]
  },
  {
   "cell_type": "code",
   "execution_count": 120,
   "metadata": {
    "collapsed": false
   },
   "outputs": [
    {
     "name": "stdout",
     "output_type": "stream",
     "text": [
      "hi\n"
     ]
    }
   ],
   "source": [
    "list1 = [0,1,2,3,4]\n",
    "if 0 in list1:\n",
    "    print('hi')"
   ]
  },
  {
   "cell_type": "code",
   "execution_count": null,
   "metadata": {
    "collapsed": true
   },
   "outputs": [],
   "source": []
  }
 ],
 "metadata": {
  "kernelspec": {
   "display_name": "Python 3",
   "language": "python",
   "name": "python3"
  },
  "language_info": {
   "codemirror_mode": {
    "name": "ipython",
    "version": 3
   },
   "file_extension": ".py",
   "mimetype": "text/x-python",
   "name": "python",
   "nbconvert_exporter": "python",
   "pygments_lexer": "ipython3",
   "version": "3.4.3"
  }
 },
 "nbformat": 4,
 "nbformat_minor": 0
}
