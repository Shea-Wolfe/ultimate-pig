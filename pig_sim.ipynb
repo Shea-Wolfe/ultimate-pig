{
 "cells": [
  {
   "cell_type": "code",
   "execution_count": 1,
   "metadata": {
    "collapsed": true
   },
   "outputs": [],
   "source": [
    "import matplotlib.pyplot as plt\n",
    "import statistics\n",
    "import math\n",
    "import random"
   ]
  },
  {
   "cell_type": "code",
   "execution_count": 2,
   "metadata": {
    "collapsed": true
   },
   "outputs": [],
   "source": [
    "%matplotlib inline"
   ]
  },
  {
   "cell_type": "code",
   "execution_count": 71,
   "metadata": {
    "collapsed": false
   },
   "outputs": [],
   "source": [
    "class Game_state():\n",
    "    \n",
    "    def __init__(self, player):\n",
    "        self.player = player\n",
    "        self.turns = 1\n",
    "        self.score = 0\n",
    "        self.data = {}\n",
    "    \n",
    "    def game_loop(self):\n",
    "        while self.turns <= 7:\n",
    "            self.score += self.player.push()\n",
    "            self.data[self.turns] = self.score\n",
    "            self.turns += 1\n",
    "        return self.data\n",
    "    "
   ]
  },
  {
   "cell_type": "code",
   "execution_count": 57,
   "metadata": {
    "collapsed": false
   },
   "outputs": [],
   "source": [
    "class Player():\n",
    "    \n",
    "    def __init__(self):\n",
    "        pass\n",
    "    \n",
    "    def roll(self):\n",
    "        roll = random.randint(1,6)\n",
    "        if roll == 1:\n",
    "            return 0\n",
    "        else:\n",
    "            return roll\n",
    "    \n",
    "    def push(self):\n",
    "        self.roll_list = []\n",
    "        while len(self.roll_list) < 1:\n",
    "            self.roll_list.append(self.roll)\n",
    "        return sum(self.roll_list)\n",
    "    \n",
    "    \n",
    "\n",
    "            \n",
    "        "
   ]
  },
  {
   "cell_type": "code",
   "execution_count": 77,
   "metadata": {
    "collapsed": true
   },
   "outputs": [],
   "source": [
    "class Push2player(Player):\n",
    "    \n",
    "    def __init__(self):\n",
    "        super().__init__()\n",
    "    \n",
    "    def push(self):\n",
    "        self.roll_list = []\n",
    "        for _ in range(2):\n",
    "            self.roll_list.append(self.roll())\n",
    "        if 0 in self.roll_list:\n",
    "            return 0\n",
    "        else:\n",
    "            return sum(self.roll_list)\n",
    "            \n",
    "        "
   ]
  },
  {
   "cell_type": "code",
   "execution_count": 78,
   "metadata": {
    "collapsed": false
   },
   "outputs": [],
   "source": [
    "will = Player()\n",
    "steve = Push2player()"
   ]
  },
  {
   "cell_type": "code",
   "execution_count": 79,
   "metadata": {
    "collapsed": false
   },
   "outputs": [],
   "source": [
    "sim1 = Game_state(will)\n",
    "sim2 = Game_state(steve)"
   ]
  },
  {
   "cell_type": "code",
   "execution_count": 80,
   "metadata": {
    "collapsed": false
   },
   "outputs": [],
   "source": [
    "game = sim1.game_loop()\n",
    "game2 = sim2.game_loop()"
   ]
  },
  {
   "cell_type": "code",
   "execution_count": 81,
   "metadata": {
    "collapsed": false
   },
   "outputs": [
    {
     "name": "stdout",
     "output_type": "stream",
     "text": [
      "{1: 4, 2: 4, 3: 8, 4: 11, 5: 15, 6: 18, 7: 22}\n",
      "{1: 3, 2: 5, 3: 12, 4: 16, 5: 22, 6: 28, 7: 39}\n"
     ]
    }
   ],
   "source": [
    "print(game)\n",
    "print(game2)"
   ]
  },
  {
   "cell_type": "code",
   "execution_count": 67,
   "metadata": {
    "collapsed": false
   },
   "outputs": [
    {
     "name": "stdout",
     "output_type": "stream",
     "text": [
      "1\n",
      "1\n"
     ]
    }
   ],
   "source": [
    "def get_data(player):\n",
    "    \n",
    "    for _ in range(20):\n",
    "        "
   ]
  },
  {
   "cell_type": "code",
   "execution_count": null,
   "metadata": {
    "collapsed": true
   },
   "outputs": [],
   "source": []
  }
 ],
 "metadata": {
  "kernelspec": {
   "display_name": "Python 3",
   "language": "python",
   "name": "python3"
  },
  "language_info": {
   "codemirror_mode": {
    "name": "ipython",
    "version": 3
   },
   "file_extension": ".py",
   "mimetype": "text/x-python",
   "name": "python",
   "nbconvert_exporter": "python",
   "pygments_lexer": "ipython3",
   "version": "3.4.3"
  }
 },
 "nbformat": 4,
 "nbformat_minor": 0
}
