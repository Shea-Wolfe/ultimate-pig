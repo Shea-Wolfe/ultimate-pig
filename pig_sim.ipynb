{
 "cells": [
  {
   "cell_type": "code",
   "execution_count": 1,
   "metadata": {
    "collapsed": true
   },
   "outputs": [],
   "source": [
    "import matplotlib.pyplot as plt\n",
    "import statistics\n",
    "import math\n",
    "import random"
   ]
  },
  {
   "cell_type": "code",
   "execution_count": 2,
   "metadata": {
    "collapsed": true
   },
   "outputs": [],
   "source": [
    "%matplotlib inline"
   ]
  },
  {
   "cell_type": "code",
   "execution_count": 88,
   "metadata": {
    "collapsed": false
   },
   "outputs": [],
   "source": [
    "class Game_state():\n",
    "    \n",
    "    def __init__(self, player):\n",
    "        self.player = player\n",
    "        self.turns = 1\n",
    "        self.score = 0\n",
    "        self.data = {}\n",
    "    \n",
    "    def game_loop(self):\n",
    "        while self.turns <= 7:\n",
    "            self.score += self.player.push()\n",
    "            self.data[self.turns] = self.score\n",
    "            self.turns += 1\n",
    "        return self.data[7]\n",
    "    "
   ]
  },
  {
   "cell_type": "code",
   "execution_count": 57,
   "metadata": {
    "collapsed": false
   },
   "outputs": [],
   "source": [
    "class Player():\n",
    "    \n",
    "    def __init__(self):\n",
    "        pass\n",
    "    \n",
    "    def roll(self):\n",
    "        roll = random.randint(1,6)\n",
    "        if roll == 1:\n",
    "            return 0\n",
    "        else:\n",
    "            return roll\n",
    "    \n",
    "    def push(self):\n",
    "        self.roll_list = []\n",
    "        while len(self.roll_list) < 1:\n",
    "            self.roll_list.append(self.roll)\n",
    "        return sum(self.roll_list)\n",
    "    \n",
    "    \n",
    "\n",
    "            \n",
    "        "
   ]
  },
  {
   "cell_type": "code",
   "execution_count": 77,
   "metadata": {
    "collapsed": true
   },
   "outputs": [],
   "source": [
    "class Push2player(Player):\n",
    "    \n",
    "    def __init__(self):\n",
    "        super().__init__()\n",
    "    \n",
    "    def push(self):\n",
    "        self.roll_list = []\n",
    "        for _ in range(2):\n",
    "            self.roll_list.append(self.roll())\n",
    "        if 0 in self.roll_list:\n",
    "            return 0\n",
    "        else:\n",
    "            return sum(self.roll_list)\n",
    "            \n",
    "class Push3player(Player):"
   ]
  },
  {
   "cell_type": "code",
   "execution_count": 78,
   "metadata": {
    "collapsed": false
   },
   "outputs": [],
   "source": [
    "will = Player()\n",
    "steve = Push2player()"
   ]
  },
  {
   "cell_type": "code",
   "execution_count": 79,
   "metadata": {
    "collapsed": false
   },
   "outputs": [],
   "source": [
    "sim1 = Game_state(will)\n",
    "sim2 = Game_state(steve)"
   ]
  },
  {
   "cell_type": "code",
   "execution_count": 80,
   "metadata": {
    "collapsed": false
   },
   "outputs": [],
   "source": [
    "game = sim1.game_loop()\n",
    "game2 = sim2.game_loop()"
   ]
  },
  {
   "cell_type": "code",
   "execution_count": 81,
   "metadata": {
    "collapsed": false
   },
   "outputs": [
    {
     "name": "stdout",
     "output_type": "stream",
     "text": [
      "{1: 4, 2: 4, 3: 8, 4: 11, 5: 15, 6: 18, 7: 22}\n",
      "{1: 3, 2: 5, 3: 12, 4: 16, 5: 22, 6: 28, 7: 39}\n"
     ]
    }
   ],
   "source": [
    "print(game)\n",
    "print(game2)"
   ]
  },
  {
   "cell_type": "code",
   "execution_count": 91,
   "metadata": {
    "collapsed": false
   },
   "outputs": [],
   "source": [
    "def get_data(player): # takes a instance of player\n",
    "    simulations = []\n",
    "    [simulations.append(Game_state(player).game_loop()) for _ in range(20)]\n",
    "    return simulations\n",
    "        "
   ]
  },
  {
   "cell_type": "code",
   "execution_count": 94,
   "metadata": {
    "collapsed": false
   },
   "outputs": [],
   "source": [
    "data = get_data(Player())\n",
    "data2 = get_data(Push2player())"
   ]
  },
  {
   "cell_type": "code",
   "execution_count": 95,
   "metadata": {
    "collapsed": false
   },
   "outputs": [
    {
     "name": "stdout",
     "output_type": "stream",
     "text": [
      "[29, 28, 21, 25, 22, 21, 26, 19, 29, 15, 26, 21, 26, 34, 21, 16, 25, 20, 19, 16]\n",
      "[58, 41, 49, 42, 60, 53, 46, 47, 46, 46, 55, 64, 45, 55, 32, 40, 41, 49, 48, 52]\n"
     ]
    }
   ],
   "source": [
    "print(data)\n",
    "print(data2)"
   ]
  },
  {
   "cell_type": "code",
   "execution_count": 98,
   "metadata": {
    "collapsed": false
   },
   "outputs": [
    {
     "data": {
      "image/png": "[encoded data removed]",
      "text/plain": [
       "<matplotlib.figure.Figure at 0x10a1c7240>"
      ]
     },
     "metadata": {},
     "output_type": "display_data"
    }
   ],
   "source": [
    "plt.plot([statistics.mean(data), statistics.mean(data2)])\n",
    "plt.show()"
   ]
  },
  {
   "cell_type": "code",
   "execution_count": null,
   "metadata": {
    "collapsed": true
   },
   "outputs": [],
   "source": []
  }
 ],
 "metadata": {
  "kernelspec": {
   "display_name": "Python 3",
   "language": "python",
   "name": "python3"
  },
  "language_info": {
   "codemirror_mode": {
    "name": "ipython",
    "version": 3
   },
   "file_extension": ".py",
   "mimetype": "text/x-python",
   "name": "python",
   "nbconvert_exporter": "python",
   "pygments_lexer": "ipython3",
   "version": "3.4.3"
  }
 },
 "nbformat": 4,
 "nbformat_minor": 0
}
